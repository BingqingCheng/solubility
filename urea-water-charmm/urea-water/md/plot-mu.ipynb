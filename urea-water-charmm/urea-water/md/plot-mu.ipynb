{
 "cells": [
  {
   "cell_type": "code",
   "execution_count": 1,
   "metadata": {},
   "outputs": [],
   "source": [
    "import numpy as np\n",
    "import scipy\n",
    "from scipy import signal\n",
    "import matplotlib.pyplot as plt\n",
    "from math import pi, isinf\n",
    "from scipy.interpolate import interp1d\n",
    "from scipy.misc import derivative\n",
    "from scipy.optimize import curve_fit\n",
    "from scipy.integrate import quad\n",
    "\n",
    "import matplotlib.cm as cm"
   ]
  },
  {
   "cell_type": "code",
   "execution_count": 2,
   "metadata": {},
   "outputs": [],
   "source": [
    "%matplotlib inline"
   ]
  },
  {
   "cell_type": "code",
   "execution_count": 29,
   "metadata": {},
   "outputs": [],
   "source": [
    "font = {'family': 'serif', 'size': 14}\n",
    "plt.rc('font', **font)\n",
    "plt.rc('text', usetex=True)"
   ]
  },
  {
   "cell_type": "code",
   "execution_count": 4,
   "metadata": {},
   "outputs": [],
   "source": [
    "cmap = plt.get_cmap(\"tab10\")"
   ]
  },
  {
   "cell_type": "markdown",
   "metadata": {},
   "source": [
    "# system info"
   ]
  },
  {
   "cell_type": "code",
   "execution_count": 5,
   "metadata": {},
   "outputs": [],
   "source": [
    "T_list = [20, 40, 60, 80, 100]\n",
    "kb_in_kcalmol = 1.987204259*10**-3\n",
    "#kbT = (TT+273.15) * kb_in_kcalmol #kcal/mol\n",
    "\n",
    "mu_dict={20:[-10.9425, 0.144646],\n",
    "        40: [-11.0777, 0.127142],\n",
    "        60: [-11.2246, 0.127939],\n",
    "        80: [-11.3008, 0.122396],\n",
    "        100: [-11.2422, 0.120769]}\n",
    "\n",
    "#mu_absorption = mu_dict[CT] #kcal/mol"
   ]
  },
  {
   "cell_type": "code",
   "execution_count": 6,
   "metadata": {},
   "outputs": [],
   "source": [
    "avogadro = 6.0221408e+23\n",
    "a3_to_L = 10e-27\n",
    "inva3_to_molperL = 1e27/avogadro"
   ]
  },
  {
   "cell_type": "code",
   "execution_count": 7,
   "metadata": {},
   "outputs": [],
   "source": [
    "ref_v0 = 0.00001"
   ]
  },
  {
   "cell_type": "code",
   "execution_count": 8,
   "metadata": {},
   "outputs": [
    {
     "data": {
      "text/plain": [
       "1660.5390561442869"
      ]
     },
     "execution_count": 8,
     "metadata": {},
     "output_type": "execute_result"
    }
   ],
   "source": [
    "inva3_to_molperL"
   ]
  },
  {
   "cell_type": "code",
   "execution_count": 9,
   "metadata": {},
   "outputs": [],
   "source": [
    "c_dict = {}\n",
    "\n",
    "for TT in T_list:\n",
    "    \n",
    "    c_dict[TT] = {}\n",
    "\n",
    "    # name N_para N_water V[A^3] V_error[A^3] c_para[1/A^3] c_para_error\n",
    "    c_list = np.genfromtxt('./molarc-'+str(TT)+'C.dat', str)[:,:]\n",
    "    \n",
    "    for a in c_list:\n",
    "        c_dict[TT][a[0]] = {'c': float(a[5]), \n",
    "                        'n_p': int(a[1]), \n",
    "                        'n_w': int(a[2])}"
   ]
  },
  {
   "cell_type": "markdown",
   "metadata": {},
   "source": [
    "### define functions for the S0 method"
   ]
  },
  {
   "cell_type": "code",
   "execution_count": 10,
   "metadata": {},
   "outputs": [],
   "source": [
    "from S0functions import *"
   ]
  },
  {
   "cell_type": "markdown",
   "metadata": {},
   "source": [
    "# Read in the values of S(k) at different k"
   ]
  },
  {
   "cell_type": "code",
   "execution_count": 11,
   "metadata": {},
   "outputs": [],
   "source": [
    "Sk={}"
   ]
  },
  {
   "cell_type": "code",
   "execution_count": 12,
   "metadata": {},
   "outputs": [
    {
     "name": "stdout",
     "output_type": "stream",
     "text": [
      "box16-43-100-4x4x4-20C\n",
      "box17-30-100-4x4x4-20C\n",
      "box20-72-100-4x4x4-20C\n",
      "box22-135-100-3x3x3-20C\n",
      "box22-135-100-4x4x4-20C\n",
      "box24-188-100-3x3x3-20C\n",
      "box24-188-100-4x4x4-20C\n",
      "box24-90-100-4x4x4-20C\n",
      "box28-268-100-3x3x3-20C\n",
      "box28-302-80-3x3x3-20C\n",
      "box30-10-2x2x2-20C\n",
      "box30-10-3x3x3-20C\n",
      "box30-15-2x2x2-20C\n",
      "box30-20-2x2x2-20C\n",
      "box30-20-3x3x3-20C\n",
      "box30-30-2x2x2-20C\n",
      "box30-40-2x2x2-20C\n",
      "box30-40-3x3x3-20C\n",
      "box30-50-2x2x2-20C\n",
      "box30-60-2x2x2-20C\n",
      "box30-60-3x3x3-20C\n",
      "box30-70-2x2x2-20C\n",
      "box30-80-2x2x2-20C\n",
      "box30-80-3x3x3-20C\n",
      "box34-401-400-3x3x3-20C\n",
      "box35-100-2x2x2-20C\n",
      "box35-100-3x3x3-20C\n",
      "box35-110-2x2x2-20C\n",
      "box35-120-2x2x2-20C\n",
      "box35-120-3x3x3-20C\n",
      "box35-135-2x2x2-20C\n",
      "box35-135-3x3x3-20C\n",
      "box35-90-2x2x2-20C\n",
      "box36-607-80-3x3x3-20C\n",
      "box50-10-1x1x1-20C\n",
      "box50-10-2x2x2-20C\n",
      "box50-1-1x1x1-20C\n",
      "box50-1-2x2x2-20C\n",
      "box16-43-100-4x4x4-40C\n",
      "box17-30-100-4x4x4-40C\n",
      "box20-72-100-4x4x4-40C\n",
      "box22-135-100-3x3x3-40C\n",
      "box22-135-100-4x4x4-40C\n",
      "box24-188-100-3x3x3-40C\n",
      "box24-188-100-4x4x4-40C\n",
      "box24-90-100-4x4x4-40C\n",
      "box28-268-100-3x3x3-40C\n",
      "box28-302-80-3x3x3-40C\n",
      "box30-10-2x2x2-40C\n",
      "box30-10-3x3x3-40C\n",
      "box30-15-2x2x2-40C\n",
      "box30-20-2x2x2-40C\n",
      "box30-20-3x3x3-40C\n",
      "box30-30-2x2x2-40C\n",
      "box30-40-2x2x2-40C\n",
      "box30-40-3x3x3-40C\n",
      "box30-50-2x2x2-40C\n",
      "box30-60-2x2x2-40C\n",
      "box30-60-3x3x3-40C\n",
      "box30-70-2x2x2-40C\n",
      "box30-80-2x2x2-40C\n",
      "box30-80-3x3x3-40C\n",
      "box34-401-400-3x3x3-40C\n",
      "box35-100-2x2x2-40C\n",
      "box35-100-3x3x3-40C\n",
      "box35-110-2x2x2-40C\n",
      "box35-120-2x2x2-40C\n",
      "box35-120-3x3x3-40C\n",
      "box35-135-2x2x2-40C\n",
      "box35-135-3x3x3-40C\n",
      "box35-90-2x2x2-40C\n",
      "box36-607-80-3x3x3-40C\n",
      "box50-10-1x1x1-40C\n",
      "box50-10-2x2x2-40C\n",
      "box50-1-1x1x1-40C\n",
      "box50-1-2x2x2-40C\n",
      "box16-43-100-4x4x4-60C\n",
      "box17-30-100-4x4x4-60C\n",
      "box20-72-100-4x4x4-60C\n",
      "box22-135-100-3x3x3-60C\n",
      "box22-135-100-4x4x4-60C\n",
      "box24-188-100-3x3x3-60C\n",
      "box24-188-100-4x4x4-60C\n",
      "box24-90-100-4x4x4-60C\n",
      "box28-268-100-3x3x3-60C\n",
      "box28-302-80-3x3x3-60C\n",
      "box30-10-2x2x2-60C\n",
      "box30-10-3x3x3-60C\n",
      "box30-15-2x2x2-60C\n",
      "box30-20-2x2x2-60C\n",
      "box30-20-3x3x3-60C\n",
      "box30-30-2x2x2-60C\n",
      "box30-40-2x2x2-60C\n",
      "box30-40-3x3x3-60C\n",
      "box30-50-2x2x2-60C\n",
      "box30-60-2x2x2-60C\n",
      "box30-60-3x3x3-60C\n",
      "box30-70-2x2x2-60C\n",
      "box30-80-2x2x2-60C\n",
      "box30-80-3x3x3-60C\n",
      "box34-401-400-3x3x3-60C\n",
      "box35-100-2x2x2-60C\n",
      "box35-100-3x3x3-60C\n",
      "box35-110-2x2x2-60C\n",
      "box35-120-2x2x2-60C\n",
      "box35-120-3x3x3-60C\n",
      "box35-135-2x2x2-60C\n",
      "box35-135-3x3x3-60C\n",
      "box35-90-2x2x2-60C\n",
      "box36-607-80-3x3x3-60C\n",
      "box50-10-1x1x1-60C\n",
      "box50-10-2x2x2-60C\n",
      "box50-1-1x1x1-60C\n",
      "box50-1-2x2x2-60C\n",
      "box16-43-100-4x4x4-80C\n",
      "box17-30-100-4x4x4-80C\n",
      "box20-72-100-4x4x4-80C\n",
      "box22-135-100-3x3x3-80C\n",
      "box22-135-100-4x4x4-80C\n",
      "box24-188-100-3x3x3-80C\n",
      "box24-188-100-4x4x4-80C\n",
      "box24-90-100-4x4x4-80C\n",
      "box28-268-100-3x3x3-80C\n",
      "box28-302-80-3x3x3-80C\n",
      "box30-10-2x2x2-80C\n",
      "box30-10-3x3x3-80C\n",
      "box30-15-2x2x2-80C\n",
      "box30-20-2x2x2-80C\n",
      "box30-20-3x3x3-80C\n",
      "box30-30-2x2x2-80C\n",
      "box30-40-2x2x2-80C\n",
      "box30-40-3x3x3-80C\n",
      "box30-50-2x2x2-80C\n",
      "box30-60-2x2x2-80C\n",
      "box30-60-3x3x3-80C\n",
      "box30-70-2x2x2-80C\n",
      "box30-80-2x2x2-80C\n",
      "box30-80-3x3x3-80C\n",
      "box34-401-400-3x3x3-80C\n",
      "box35-100-2x2x2-80C\n",
      "box35-100-3x3x3-80C\n",
      "box35-110-2x2x2-80C\n",
      "box35-120-2x2x2-80C\n",
      "box35-120-3x3x3-80C\n",
      "box35-135-2x2x2-80C\n",
      "box35-135-3x3x3-80C\n",
      "box35-90-2x2x2-80C\n",
      "box36-607-80-3x3x3-80C\n",
      "box50-10-1x1x1-80C\n",
      "box50-10-2x2x2-80C\n",
      "box50-1-1x1x1-80C\n",
      "box50-1-2x2x2-80C\n",
      "box16-43-100-4x4x4-100C\n",
      "box17-30-100-4x4x4-100C\n",
      "box20-72-100-4x4x4-100C\n",
      "box22-135-100-3x3x3-100C\n",
      "box22-135-100-4x4x4-100C\n",
      "box24-188-100-3x3x3-100C\n",
      "box24-188-100-4x4x4-100C\n",
      "box24-90-100-4x4x4-100C\n",
      "box28-268-100-3x3x3-100C\n",
      "box28-302-80-3x3x3-100C\n",
      "box30-10-2x2x2-100C\n",
      "box30-10-3x3x3-100C\n",
      "box30-15-2x2x2-100C\n",
      "box30-20-2x2x2-100C\n",
      "box30-20-3x3x3-100C\n",
      "box30-30-2x2x2-100C\n",
      "box30-40-2x2x2-100C\n",
      "box30-40-3x3x3-100C\n",
      "box30-50-2x2x2-100C\n",
      "box30-60-2x2x2-100C\n",
      "box30-60-3x3x3-100C\n",
      "box30-70-2x2x2-100C\n",
      "box30-80-2x2x2-100C\n",
      "box30-80-3x3x3-100C\n",
      "box34-401-400-3x3x3-100C\n",
      "box35-100-2x2x2-100C\n",
      "box35-100-3x3x3-100C\n",
      "box35-120-2x2x2-100C\n",
      "box35-120-3x3x3-100C\n",
      "box35-135-2x2x2-100C\n",
      "box35-135-3x3x3-100C\n",
      "box35-90-2x2x2-100C\n",
      "box36-607-80-3x3x3-100C\n",
      "box50-10-1x1x1-100C\n",
      "box50-10-2x2x2-100C\n",
      "box50-1-1x1x1-100C\n",
      "box50-1-2x2x2-100C\n"
     ]
    }
   ],
   "source": [
    "for s in T_list:\n",
    "    Sk[s] = {}\n",
    "    \n",
    "    for nn in [n for n in c_dict[s].keys()]:\n",
    "        print(nn)\n",
    "        Sk[s][nn] = {}\n",
    "        for ii in ['CC', 'CO','OO']:\n",
    "            Sk[s][nn][ii] = np.loadtxt(nn+\"/Sk-\"+ii+\"-real-avg.list\", skiprows=0)[:,:]"
   ]
  },
  {
   "cell_type": "code",
   "execution_count": 13,
   "metadata": {},
   "outputs": [
    {
     "name": "stderr",
     "output_type": "stream",
     "text": [
      "/Users/tc/miniconda/envs/chicken/lib/python3.7/site-packages/scipy/optimize/minpack.py:834: OptimizeWarning: Covariance of the parameters could not be estimated\n",
      "  category=OptimizeWarning)\n"
     ]
    }
   ],
   "source": [
    "S0_dict = {}\n",
    "\n",
    "kcut = 0.004\n",
    "\n",
    "for s in T_list: \n",
    "    S0_dict[s] = {}\n",
    "    \n",
    "    for nn in [n for n in c_dict[s].keys()]:\n",
    "        S0_dict[s][nn] = {}\n",
    "        S0_dict[s][nn].update(c_dict[s][nn])\n",
    "        \n",
    "        try:\n",
    "\n",
    "            for ii in ['CC', 'CO','OO']:\n",
    "\n",
    "\n",
    "                Sk_cut = np.asarray([sk for sk in Sk[s][nn][ii][1:] if sk[0]**2.+sk[1]**2.+sk[2]**2. < kcut ])\n",
    "                                     #and not np.isnan(sk[5])])\n",
    "                #print(Sk_cut)\n",
    "                ksqr_now = [ sk[0]**2.+sk[1]**2.+sk[2]**2. for sk in Sk_cut]\n",
    "                sk_now = Sk_cut[:,3] \n",
    "                sk_error_now = Sk_cut[:,5]\n",
    "\n",
    "                #if np.isnan(Sk[ii][nn][2,3]): continue\n",
    "                popt, pcov = curve_fit(fit_OrnsteinZernike, \n",
    "                                   ksqr_now, \n",
    "                                   sk_now, )\n",
    "                                   #sigma=sk_error_now,\n",
    "                                   #absolute_sigma=False) #,\n",
    "                                   # bounds=((-np.inf,  0), (np.inf, np.inf)))\n",
    "                perr = np.sqrt(np.diag(pcov))\n",
    "                #print(ii, nn,popt,perr)\n",
    "                if isinf(perr[0]): popt = [float('nan'), float('nan')]\n",
    "                #print(ii, frac,popt,perr)\n",
    "\n",
    "                S0_dict[s][nn][ii]={'S0': popt[0], \n",
    "                                    'S0_error': perr[0],\n",
    "                                    'value': popt, \n",
    "                                    'error': perr}\n",
    "        except:\n",
    "            print(s, nn, ii)\n",
    "            del S0_dict[s][nn]\n",
    "            "
   ]
  },
  {
   "cell_type": "code",
   "execution_count": 14,
   "metadata": {},
   "outputs": [
    {
     "data": {
      "image/png": "[encoded data removed]",
      "text/plain": [
       "<Figure size 360x748.8 with 8 Axes>"
      ]
     },
     "metadata": {
      "needs_background": "light"
     },
     "output_type": "display_data"
    }
   ],
   "source": [
    "fig, ax = plt.subplots(8,1, sharex=True, sharey=False,figsize=(5,6.5*1.6))\n",
    "\n",
    "krange = 0.0001*np.arange(30)\n",
    "\n",
    "s = 80\n",
    "ii = 'CC'\n",
    "\n",
    "for i,nn in enumerate([n for n in c_dict[s].keys()][::2][:8]):\n",
    "    \n",
    "    sk_now = Sk[s][nn][ii][1:]\n",
    "    \n",
    "    ksqr_now = [ sk[0]**2.+sk[1]**2.+sk[2]**2. for sk in sk_now]\n",
    "    sk_v_now = sk_now[:,3]\n",
    "    sk_error_now = sk_now[:,5]\n",
    "    popt = S0_dict[s][nn][ii]['value']\n",
    "    perr = S0_dict[s][nn][ii]['error']\n",
    "    c_now = S0_dict[s][nn]['c']\n",
    "    \n",
    "    ax[i].errorbar(ksqr_now, sk_v_now, sk_error_now,\n",
    "             ls='',marker='o', c=cmap(0),\n",
    "                   markerfacecolor='None')\n",
    "    ax[i].plot(krange, fit_OrnsteinZernike(krange, *popt), '--',  c=cmap(0),\n",
    "         label='$S_0~$=%5.2f $\\pm$ %5.2f' % (popt[0],perr[0]))\n",
    "    \n",
    "    ax[i].text(0.7, 0.75, '%5.2f [mol/L]' % (c_now*inva3_to_molperL),\n",
    "                 fontsize=12, transform=ax[i].transAxes,\n",
    "                      verticalalignment='bottom')\n",
    "    ax[i].legend(loc='lower right')\n",
    "    ax[i].set_xlim([0,0.003])\n",
    "    #ax[i].set_ylim([0.6,1.5])\n",
    "    ax[i].margins(-0.0, x=None, y=None, tight=True)\n",
    "    ax[i].set_ylabel(r\"$S(k)$\")\n",
    "    \n",
    "ax[-1].set_xlabel(\"$k^2$ [$4\\pi^2$/$\\AA^2$]\")    \n",
    "#ax[0].set_ylabel(\"$\\lambda$\")\n",
    "fig.subplots_adjust(hspace=0.05, wspace=0.02)\n",
    "#fig.tight_layout()\n",
    "\n",
    "#fig.savefig(\"selected-k-S-mof5-co2.pdf\", dpi=300, bbox_inches='tight')"
   ]
  },
  {
   "cell_type": "code",
   "execution_count": 31,
   "metadata": {
    "scrolled": true
   },
   "outputs": [
    {
     "data": {
      "image/png": "[encoded data removed]",
      "text/plain": [
       "<Figure size 360x216 with 1 Axes>"
      ]
     },
     "metadata": {
      "needs_background": "light"
     },
     "output_type": "display_data"
    }
   ],
   "source": [
    "fig, ax = plt.subplots(figsize=(5,3))\n",
    "\n",
    "for i,ii in enumerate(['CC', 'CO','OO']):\n",
    "    slist_now = np.array([[ v['c'],v[ii]['S0'],v[ii]['S0_error']] for v in S0_dict[s].values()])\n",
    "    ax.errorbar(slist_now[:,0],slist_now[:,1], slist_now[:,2],\n",
    "           ls='',marker='o',markerfacecolor='None', c=cmap(i),\n",
    "           label=\"$S$\"+ii+\"(0)\")\n",
    "\n",
    "ax.legend()\n",
    "ax.set_ylabel(\"$S(0)$\")\n",
    "    \n",
    "ax.set_xlabel(\"$c~[1/\\AA^3]$\")  \n",
    "\n",
    "fig.savefig(\"S-plot.pdf\", dpi=300, bbox_inches='tight')"
   ]
  },
  {
   "cell_type": "code",
   "execution_count": 16,
   "metadata": {},
   "outputs": [
    {
     "data": {
      "text/plain": [
       "<matplotlib.legend.Legend at 0x7ffe8a023c90>"
      ]
     },
     "execution_count": 16,
     "metadata": {},
     "output_type": "execute_result"
    },
    {
     "data": {
      "image/png": "[encoded data removed]",
      "text/plain": [
       "<Figure size 432x288 with 3 Axes>"
      ]
     },
     "metadata": {
      "needs_background": "light"
     },
     "output_type": "display_data"
    }
   ],
   "source": [
    "fig, ax = plt.subplots(figsize=(6,4))\n",
    "\n",
    "s=20\n",
    "# $0:ca $1:c_ratio $2:SAA $3:SAA_error $4:SAB $5:SAB_error\n",
    "slist_now = np.array([[ v['c'], v['n_p']/v['n_w'], \\\n",
    "                       v['CC']['S0'],v['CC']['S0_error'], \\\n",
    "                       v['CO']['S0'],v['CO']['S0_error'],\n",
    "                      v['n_p']/v['c']] \\\n",
    "                      for v in S0_dict[s].values()])\n",
    "\n",
    "ac = ax.scatter(slist_now[:,0], get_activity_coefficient(slist_now[:,2], slist_now[:,4], slist_now[:,1]),\n",
    "          c=slist_now[:,6],s=200)\n",
    "\n",
    "plt.colorbar(ac)\n",
    "\n",
    "ax.errorbar(slist_now[:,0],\n",
    "        get_activity_coefficient(slist_now[:,2], slist_now[:,4], slist_now[:,1]),\n",
    "            get_activity_coefficient(slist_now[:,2]+slist_now[:,3], slist_now[:,4]-slist_now[:,5], slist_now[:,1])\n",
    "            -get_activity_coefficient(slist_now[:,2], slist_now[:,4], slist_now[:,1]),\n",
    "            ls='',\n",
    "            marker='v',markerfacecolor='None',\n",
    "           label='S0 (This work)')\n",
    "\n",
    "s=80\n",
    "# $0:ca $1:c_ratio $2:SAA $3:SAA_error $4:SAB $5:SAB_error\n",
    "slist_now = np.array([[ v['c'], v['n_p']/v['n_w'], \\\n",
    "                       v['CC']['S0'],v['CC']['S0_error'], \\\n",
    "                       v['CO']['S0'],v['CO']['S0_error'],\n",
    "                      v['n_p']/v['c']] \\\n",
    "                      for v in S0_dict[s].values()])\n",
    "\n",
    "ac = ax.scatter(slist_now[:,0], get_activity_coefficient(slist_now[:,2], slist_now[:,4], slist_now[:,1]),\n",
    "          c=slist_now[:,6],s=200)\n",
    "\n",
    "plt.colorbar(ac)\n",
    "\n",
    "ax.errorbar(slist_now[:,0],\n",
    "        get_activity_coefficient(slist_now[:,2], slist_now[:,4], slist_now[:,1]),\n",
    "            get_activity_coefficient(slist_now[:,2]+slist_now[:,3], slist_now[:,4]-slist_now[:,5], slist_now[:,1])\n",
    "            -get_activity_coefficient(slist_now[:,2], slist_now[:,4], slist_now[:,1]),\n",
    "            ls='',\n",
    "            marker='v',markerfacecolor='None',\n",
    "           label='S0 (This work)')\n",
    "\n",
    "\n",
    "ax.set_ylabel(\"$\\gamma'_\\mathrm{urea}$\")\n",
    "    \n",
    "ax.set_xlabel('$c_\\mathrm{urea}~[1/\\AA^3]$')  \n",
    "#ax.set_xticks(np.arange(2, 8.1, step=2))\n",
    "ax.legend()\n",
    "\n",
    "#fig.savefig(\"dilute-gamma-ca-\"+sysname+\".pdf\", dpi=300, bbox_inches='tight')"
   ]
  },
  {
   "cell_type": "code",
   "execution_count": 30,
   "metadata": {},
   "outputs": [
    {
     "name": "stderr",
     "output_type": "stream",
     "text": [
      "/Users/tc/IST-Cheng Dropbox/Bingqing Cheng/solubility/urea-water/md-charmm/S0functions.py:33: IntegrationWarning: The maximum number of subdivisions (50) has been achieved.\n",
      "  If increasing the limit yields no improvement it is advised to analyze \n",
      "  the integrand in order to determine the difficulties.  If the position of a \n",
      "  local difficulty can be determined (singularity, discontinuity) one will \n",
      "  probably gain from splitting up the interval and calling the integrator \n",
      "  on the subranges.  Perhaps a special-purpose integrator should be used.\n",
      "  mu_now = kbT*quad(int_func, np.log(c0), a)[0]\n",
      "/Users/tc/IST-Cheng Dropbox/Bingqing Cheng/solubility/urea-water/md-charmm/S0functions.py:37: IntegrationWarning: The maximum number of subdivisions (50) has been achieved.\n",
      "  If increasing the limit yields no improvement it is advised to analyze \n",
      "  the integrand in order to determine the difficulties.  If the position of a \n",
      "  local difficulty can be determined (singularity, discontinuity) one will \n",
      "  probably gain from splitting up the interval and calling the integrator \n",
      "  on the subranges.  Perhaps a special-purpose integrator should be used.\n",
      "  mu_error_now = kbT*quad(int_error_func, np.log(c0), a)[0]\n",
      "/Users/tc/IST-Cheng Dropbox/Bingqing Cheng/solubility/urea-water/md-charmm/S0functions.py:35: IntegrationWarning: The maximum number of subdivisions (50) has been achieved.\n",
      "  If increasing the limit yields no improvement it is advised to analyze \n",
      "  the integrand in order to determine the difficulties.  If the position of a \n",
      "  local difficulty can be determined (singularity, discontinuity) one will \n",
      "  probably gain from splitting up the interval and calling the integrator \n",
      "  on the subranges.  Perhaps a special-purpose integrator should be used.\n",
      "  mu_error_now = kbT*quad(int_error_func, np.log(c0), a)[0]/(n_sample-1)**0.5\n"
     ]
    },
    {
     "data": {
      "text/plain": [
       "Text(0.5, 0, '$c_\\\\mathrm{urea}$ [mol/L]')"
      ]
     },
     "execution_count": 30,
     "metadata": {},
     "output_type": "execute_result"
    },
    {
     "data": {
      "image/png": "[encoded data removed]",
      "text/plain": [
       "<Figure size 288x180 with 1 Axes>"
      ]
     },
     "metadata": {
      "needs_background": "light"
     },
     "output_type": "display_data"
    }
   ],
   "source": [
    "# compute mu^ex_ion using Gibbs-Duhem\n",
    "s=80\n",
    "kbT = (float(s)+273.15) * kb_in_kcalmol\n",
    "\n",
    "ca_now = np.array([ v['c'] for v in S0_dict[s].values()])\n",
    "\n",
    "xa_now = np.array([ v['n_p']/(v['n_p']+v['n_w']) for v in S0_dict[s].values()])\n",
    "xb_now = 1- xa_now\n",
    "\n",
    "ca_ratio_now = np.array([ v['n_p']/v['n_w'] for v in S0_dict[s].values()])\n",
    "cb_ratio_now = 1/ca_ratio_now\n",
    "\n",
    "saa_now = np.array([ [v['CC']['S0'],v['CC']['S0_error']] for v in S0_dict[s].values()])\n",
    "sab_now = np.array([ [v['CO']['S0'],v['CO']['S0_error']] for v in S0_dict[s].values()])\n",
    "sbb_now = np.array([ [v['OO']['S0'],v['OO']['S0_error']] for v in S0_dict[s].values()])\n",
    "\n",
    "fig, ax = plt.subplots(figsize=(4,2.5))\n",
    "\"\"\"\n",
    "mu_p = mu_x_GH(saa_now,sab_now,sbb_now,xa_now,0.1,kbT)\n",
    "ax.errorbar(ca_now*inva3_to_molperL,\n",
    "            mu_p[:,1]-ideal_mu(ca_now, ca_now[0], kbT),\n",
    "            yerr=mu_p[:,2], \n",
    "            marker='x',markerfacecolor='None',ls='',\n",
    "            c='k', label='$\\mu^{ex}$ (GH)')\n",
    "\n",
    "ax.errorbar(ca_now*inva3_to_molperL,\n",
    "            mu_p[:,1],\n",
    "            yerr=mu_p[:,2], \n",
    "            marker='o',markerfacecolor='None',ls='',\n",
    "            c='k', label='$\\mu$')\n",
    "\"\"\"\n",
    "\n",
    "mu_p = excess_mu(ca_now,saa_now,sab_now,ca_ratio_now,ref_v0,kbT)\n",
    "\n",
    "ax.errorbar(ca_now*inva3_to_molperL,\n",
    "            mu_p[:,1],\n",
    "            yerr=mu_p[:,2], \n",
    "            marker='x',markerfacecolor='None',ls='',\n",
    "            c='r', label='$\\mu^{ex}$')\n",
    "\n",
    "ax.errorbar(ca_now*inva3_to_molperL,\n",
    "            mu_p[:,1] + ideal_mu(ca_now, ref_v0, kbT),\n",
    "            yerr=mu_p[:,2], \n",
    "            marker='x',markerfacecolor='None',ls='',\n",
    "            c='k', label='$\\mu$')\n",
    "\n",
    "ca_plotrange = np.linspace(np.amin(ca_now), np.amax(ca_now))\n",
    "ax.plot(ca_plotrange*inva3_to_molperL, ideal_mu(ca_plotrange, ref_v0, kbT), \n",
    "        'blue',\n",
    "        label='$\\mu^{id}$')\n",
    "\n",
    "ax.hlines(y=0, xmin=0, xmax=20, ls='-', linewidth=2, \n",
    "          color='gray', label='0')\n",
    "\n",
    "ax.legend()\n",
    "\n",
    "ax.set_xlim([0,20])\n",
    "ax.set_ylabel(\"$\\mu_\\mathrm{urea}$ [kcal/mol]\",labelpad=0)  \n",
    "ax.set_xlabel(\"$c_\\mathrm{urea}$ [mol/L]\",labelpad=0) "
   ]
  },
  {
   "cell_type": "code",
   "execution_count": 18,
   "metadata": {},
   "outputs": [
    {
     "name": "stderr",
     "output_type": "stream",
     "text": [
      "/Users/tc/IST-Cheng Dropbox/Bingqing Cheng/solubility/urea-water/md-charmm/S0functions.py:33: IntegrationWarning: The maximum number of subdivisions (50) has been achieved.\n",
      "  If increasing the limit yields no improvement it is advised to analyze \n",
      "  the integrand in order to determine the difficulties.  If the position of a \n",
      "  local difficulty can be determined (singularity, discontinuity) one will \n",
      "  probably gain from splitting up the interval and calling the integrator \n",
      "  on the subranges.  Perhaps a special-purpose integrator should be used.\n",
      "  mu_now = kbT*quad(int_func, np.log(c0), a)[0]\n",
      "/Users/tc/IST-Cheng Dropbox/Bingqing Cheng/solubility/urea-water/md-charmm/S0functions.py:37: IntegrationWarning: The maximum number of subdivisions (50) has been achieved.\n",
      "  If increasing the limit yields no improvement it is advised to analyze \n",
      "  the integrand in order to determine the difficulties.  If the position of a \n",
      "  local difficulty can be determined (singularity, discontinuity) one will \n",
      "  probably gain from splitting up the interval and calling the integrator \n",
      "  on the subranges.  Perhaps a special-purpose integrator should be used.\n",
      "  mu_error_now = kbT*quad(int_error_func, np.log(c0), a)[0]\n",
      "/Users/tc/IST-Cheng Dropbox/Bingqing Cheng/solubility/urea-water/md-charmm/S0functions.py:35: IntegrationWarning: The maximum number of subdivisions (50) has been achieved.\n",
      "  If increasing the limit yields no improvement it is advised to analyze \n",
      "  the integrand in order to determine the difficulties.  If the position of a \n",
      "  local difficulty can be determined (singularity, discontinuity) one will \n",
      "  probably gain from splitting up the interval and calling the integrator \n",
      "  on the subranges.  Perhaps a special-purpose integrator should be used.\n",
      "  mu_error_now = kbT*quad(int_error_func, np.log(c0), a)[0]/(n_sample-1)**0.5\n"
     ]
    },
    {
     "name": "stdout",
     "output_type": "stream",
     "text": [
      "[[ 7.19423000e-03 -1.56097247e-01  1.56963610e-01]\n",
      " [ 1.14175000e-02 -2.24507220e-02  8.81859349e-02]\n",
      " [ 4.17528000e-04  4.48735451e-02  2.62091016e-02]\n",
      " [ 1.33664000e-03  1.01255816e-02  2.81989737e-02]\n",
      " [ 2.98728000e-03 -7.22670947e-02  2.85557317e-02]\n",
      " [ 3.29530000e-03 -8.24126324e-02  2.60633933e-02]\n",
      " [ 4.89673000e-03 -1.25302639e-01  2.55254170e-02]\n",
      " [ 8.86735000e-05  5.29966205e-02  8.11678520e-03]]\n",
      "[[ 7.09727000e-03 -2.80993824e-01  1.39095630e-01]\n",
      " [ 1.12773000e-02 -1.70382162e-01  7.45345778e-02]\n",
      " [ 4.11510000e-04 -7.10778804e-02  2.25114158e-02]\n",
      " [ 1.31739000e-03 -1.05712874e-01  2.46037781e-02]\n",
      " [ 2.94468000e-03 -1.91350677e-01  2.53322082e-02]\n",
      " [ 3.24837000e-03 -2.04266494e-01  2.31361933e-02]\n",
      " [ 4.82767000e-03 -2.56812018e-01  2.28775454e-02]\n",
      " [ 8.74237000e-05 -5.08678460e-02  6.05361626e-03]]\n",
      "[[ 6.99878000e-03 -2.91226741e-01  1.47787751e-01]\n",
      " [ 1.11368000e-02 -1.75267090e-01  7.61190453e-02]\n",
      " [ 4.04882000e-04 -5.36458576e-02  2.69451084e-02]\n",
      " [ 1.29671000e-03 -1.05630060e-01  2.83574913e-02]\n",
      " [ 2.89999000e-03 -2.04492907e-01  2.82605722e-02]\n",
      " [ 3.19864000e-03 -2.15934901e-01  2.57580563e-02]\n",
      " [ 4.75704000e-03 -2.68392533e-01  2.50780137e-02]\n",
      " [ 8.60270000e-05 -3.46953040e-02  8.83609383e-03]]\n",
      "[[ 6.89583000e-03 -2.16070858e-01  1.21811302e-01]\n",
      " [ 1.09945000e-02 -9.82043910e-02  6.36904032e-02]\n",
      " [ 3.97782000e-04 -3.17895528e-02  2.04327450e-02]\n",
      " [ 1.27410000e-03 -6.65877873e-02  2.23871229e-02]\n",
      " [ 2.85110000e-03 -1.36338787e-01  2.29416445e-02]\n",
      " [ 3.14634000e-03 -1.49573503e-01  2.08829351e-02]\n",
      " [ 4.68219000e-03 -1.92264207e-01  2.05694911e-02]\n",
      " [ 8.44931000e-05 -3.99573065e-03  6.20552806e-03]]\n",
      "[[ 6.78761000e-03 -1.15863402e-01  1.27970026e-01]\n",
      " [ 1.08524000e-02 -9.41158894e-03  6.69864761e-02]\n",
      " [ 3.90208000e-04  9.57557312e-02  2.05380773e-02]\n",
      " [ 1.25041000e-03  5.06056762e-02  2.25640362e-02]\n",
      " [ 2.80050000e-03 -4.08633218e-02  2.37247370e-02]\n",
      " [ 3.09039000e-03 -5.14977274e-02  2.16678860e-02]\n",
      " [ 4.60325000e-03 -9.41568925e-02  2.12172574e-02]\n",
      " [ 8.21114000e-06  2.83090178e-03 -5.69271935e-04]]\n"
     ]
    }
   ],
   "source": [
    "for s in T_list:\n",
    "    # compute mu^ex_ion using Gibbs-Duhem\n",
    "    kbT = (float(s)+273.15) * kb_in_kcalmol\n",
    "\n",
    "    ca_now = np.array([ v['c'] for v in S0_dict[s].values()])\n",
    "\n",
    "    xa_now = np.array([ v['n_p']/(v['n_p']+v['n_w']) for v in S0_dict[s].values()])\n",
    "    xb_now = 1- xa_now\n",
    "\n",
    "    ca_ratio_now = np.array([ v['n_p']/v['n_w'] for v in S0_dict[s].values()])\n",
    "    cb_ratio_now = 1/ca_ratio_now\n",
    "\n",
    "    saa_now = np.array([ [v['CC']['S0'],v['CC']['S0_error']] for v in S0_dict[s].values()])\n",
    "    sab_now = np.array([ [v['CO']['S0'],v['CO']['S0_error']] for v in S0_dict[s].values()])\n",
    "    sbb_now = np.array([ [v['OO']['S0'],v['OO']['S0_error']] for v in S0_dict[s].values()])\n",
    "\n",
    "    mu_ex = excess_mu(ca_now,saa_now,sab_now,ca_ratio_now,ref_v0,kbT)\n",
    "    print(mu_ex[::5])\n",
    "\n",
    "    np.savetxt('mu-ex-T-'+str(s)+'.dat', mu_ex)"
   ]
  },
  {
   "cell_type": "raw",
   "metadata": {},
   "source": [
    "dmu_fep_backward = np.genfromtxt('./ti/'+dir_now+'/fep-dmu-backward.dat')[:,1:]\n",
    "dmu_fep_backward[:,1] *= -1."
   ]
  },
  {
   "cell_type": "code",
   "execution_count": 19,
   "metadata": {},
   "outputs": [],
   "source": [
    "dmu_fep_list = np.genfromtxt('../ti-box16-soft-l20-bar-'+str(s)+'C/dmu.dat',str)\n",
    "dmu_fep = np.array([ [int(s[3]), float(s[4]), float(s[5])] for s in dmu_fep_list])"
   ]
  },
  {
   "cell_type": "code",
   "execution_count": 20,
   "metadata": {},
   "outputs": [],
   "source": [
    "sum_dmu_fep = 0 * dmu_fep\n",
    "\n",
    "for i, dd in enumerate(dmu_fep):\n",
    "    sum_dmu_fep[i, 0] = dd[0]/dmu_fep[-1,0]\n",
    "    sum_dmu_fep[i, 1] = dd[1]\n",
    "    sum_dmu_fep[i, 2] = dd[2]\n",
    "    if i >= 1: \n",
    "        sum_dmu_fep[i, 1] += sum_dmu_fep[i-1, 1]\n",
    "        sum_dmu_fep[i, 2] += sum_dmu_fep[i-1, 2]"
   ]
  },
  {
   "cell_type": "code",
   "execution_count": 21,
   "metadata": {},
   "outputs": [
    {
     "name": "stderr",
     "output_type": "stream",
     "text": [
      "No handles with labels found to put in legend.\n"
     ]
    },
    {
     "data": {
      "text/plain": [
       "Text(0.5, 0.1, '100 C')"
      ]
     },
     "execution_count": 21,
     "metadata": {},
     "output_type": "execute_result"
    },
    {
     "data": {
      "image/png": "[encoded data removed]",
      "text/plain": [
       "<Figure size 360x288 with 1 Axes>"
      ]
     },
     "metadata": {
      "needs_background": "light"
     },
     "output_type": "display_data"
    }
   ],
   "source": [
    "fig, ax = plt.subplots(figsize=(5,4))\n",
    "\n",
    "ax.errorbar(sum_dmu_fep[:,0], sum_dmu_fep[:,1], yerr=sum_dmu_fep[:,2]\n",
    "        ,marker='o')\n",
    "\n",
    "#ax.plot(l_mu[:,0], 0*l_mu[:,1],\n",
    "#         c='k',lw=0.2, ls='-')\n",
    "\n",
    "ax.set_xlabel(\"$\\lambda$\", labelpad=0) \n",
    "ax.set_ylabel(\"$\\mu^{ab}$ [ kcal/mol ]\", labelpad=0) \n",
    "\n",
    "ax.legend(loc='upper right',ncol=1,frameon=False,fontsize=10.5,handletextpad=0.1)\n",
    "\n",
    "ax.text(0.5, 0.1, str(s)+\" C\",\n",
    "     horizontalalignment='center',\n",
    "     verticalalignment='center',\n",
    "     transform = ax.transAxes)\n",
    "\n",
    "#fig.savefig(\"MOF5-co2-mu_ab-\"+NN+\"-218K.pdf\", dpi=300, bbox_inches='tight')"
   ]
  },
  {
   "cell_type": "code",
   "execution_count": null,
   "metadata": {},
   "outputs": [],
   "source": []
  }
 ],
 "metadata": {
  "kernelspec": {
   "display_name": "Python 3",
   "language": "python",
   "name": "python3"
  },
  "language_info": {
   "codemirror_mode": {
    "name": "ipython",
    "version": 3
   },
   "file_extension": ".py",
   "mimetype": "text/x-python",
   "name": "python",
   "nbconvert_exporter": "python",
   "pygments_lexer": "ipython3",
   "version": "3.7.7"
  }
 },
 "nbformat": 4,
 "nbformat_minor": 1
}
